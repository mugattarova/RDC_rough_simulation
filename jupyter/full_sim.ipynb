{
 "cells": [
  {
   "cell_type": "code",
   "execution_count": 62,
   "metadata": {},
   "outputs": [],
   "source": [
    "import matplotlib.pyplot as plt\n",
    "import moviepy.editor as mvp\n",
    "import numpy as np\n",
    "import os\n",
    "import random\n",
    "import time\n",
    "import tqdm\n",
    "from matplotlib.colors import to_rgb\n",
    "from moviepy.video.io.ffmpeg_writer import FFMPEG_VideoWriter\n",
    "from pathlib import Path\n",
    "from PIL import Image, ImageDraw, ImageTk"
   ]
  },
  {
   "cell_type": "code",
   "execution_count": 63,
   "metadata": {},
   "outputs": [],
   "source": [
    "def clamp(lower, higher, val):\n",
    "    if val < lower:\n",
    "        val = lower\n",
    "    elif val > higher:\n",
    "        val = higher\n",
    "    return val"
   ]
  },
  {
   "cell_type": "code",
   "execution_count": 64,
   "metadata": {},
   "outputs": [],
   "source": [
    "def init_arrays(lowerBound, upperBound, h_in_blocks, w_in_blocks):\n",
    "    curU = np.zeros((h_in_blocks, w_in_blocks))\n",
    "    curV = np.zeros((h_in_blocks, w_in_blocks))\n",
    "    for x in range(h_in_blocks):\n",
    "        for y in range(w_in_blocks):\n",
    "            curU[x, y] = round(random.uniform(lowerBound, upperBound), 5)\n",
    "            curV[x, y] = round(random.uniform(lowerBound, upperBound), 5)\n",
    "    return curU, curV"
   ]
  },
  {
   "cell_type": "code",
   "execution_count": 65,
   "metadata": {},
   "outputs": [],
   "source": [
    "def get_input_illum(filename):\n",
    "    vesicle_img = Image.open(filename)\n",
    "    input_full_arr = np.array(vesicle_img)\n",
    "    illum = input_full_arr[:, :, 2]\n",
    "    # where blue, value 255\n",
    "    return illum"
   ]
  },
  {
   "cell_type": "code",
   "execution_count": 66,
   "metadata": {},
   "outputs": [],
   "source": [
    "def find_neighbours_sum(curU, x, y):\n",
    "    global w_in_pixels, h_in_pixels\n",
    "    neighbours_sum = 0\n",
    "    neighbours = 4\n",
    "    if x-1 >= 0:\n",
    "        northN = curU[x-1, y]\n",
    "        neighbours_sum += northN\n",
    "    else:\n",
    "        neighbours -= 1\n",
    "        \n",
    "    if y+1 < w_in_pixels:\n",
    "        eastN = curU[x, y+1]\n",
    "        neighbours_sum += eastN\n",
    "    else:\n",
    "        neighbours -= 1\n",
    "        \n",
    "    if x+1 < h_in_pixels:\n",
    "        southN = curU[x+1, y]\n",
    "        neighbours_sum += southN\n",
    "    else:\n",
    "        neighbours -= 1\n",
    "\n",
    "    if y-1 >= 0:\n",
    "        westN = curU[x, y-1]\n",
    "        neighbours_sum += westN\n",
    "    else:\n",
    "        neighbours -= 1   \n",
    "        \n",
    "    return neighbours_sum, neighbours"
   ]
  },
  {
   "cell_type": "code",
   "execution_count": 67,
   "metadata": {},
   "outputs": [],
   "source": [
    "def upd_grid(image_arr):\n",
    "    global h_in_pixels, w_in_pixels\n",
    "    global phi, epsilon, f, q, dt, du\n",
    "    \n",
    "    cur_u_grid = image_arr[:, :, 0]\n",
    "    cur_v_grid = image_arr[:, :, 1]\n",
    "    illum = image_arr[:, :, 2]\n",
    "    new_u_grid = np.zeros((h_in_pixels, w_in_pixels))\n",
    "    new_v_grid = np.zeros((h_in_pixels, w_in_pixels))\n",
    "    sig_fig = 6\n",
    "\n",
    "    for x in range(h_in_pixels):\n",
    "        for y in range(w_in_pixels):\n",
    "            u = cur_u_grid[x, y]\n",
    "            v = cur_v_grid[x, y]\n",
    "            if illum[x, y] != 0:\n",
    "               new_u_grid[x, y] = 0\n",
    "               new_v_grid[x, y] = 0\n",
    "               continue\n",
    "\n",
    "            neighbours_sum, neighbours = find_neighbours_sum(cur_u_grid, x, y)\n",
    "\n",
    "            laplacian = du * ( (neighbours_sum - neighbours * cur_u_grid[x, y]) / 0.0625)\n",
    "            \n",
    "            # local concentrations of activator\n",
    "            new_u_grid[x, y] = u + ( ((1.0/epsilon) * (u - np.square(u) - ((f*v + phi)*(u - q)/(u + q)))) + laplacian ) * dt\n",
    "            \n",
    "            # local concentrations of inhibitor\n",
    "            new_v_grid[x, y] = v + ( u - v ) * dt\n",
    "\n",
    "            # # clamp\n",
    "            # new_u_grid[x, y] = clamp(0.0, 1.0, new_u_grid[x, y])\n",
    "            # new_v_grid[x, y] = clamp(0.0, 1.0, new_v_grid[x, y])\n",
    "\n",
    "    np.copyto(cur_u_grid, new_u_grid)\n",
    "    np.copyto(cur_v_grid, new_v_grid)\n",
    "    illum = image_arr[:, :, 2]\n",
    "    new_image_arr = np.stack([cur_u_grid, cur_v_grid, illum], axis = -1)\n",
    "    return new_image_arr"
   ]
  },
  {
   "cell_type": "code",
   "execution_count": 68,
   "metadata": {},
   "outputs": [],
   "source": [
    "class VideoWriter:\n",
    "  def __init__(self, filename, fps=30.0, **kw):\n",
    "    self.writer = None\n",
    "    self.params = dict(filename=filename, fps=fps, **kw)\n",
    "\n",
    "  def add(self, img):\n",
    "    img = np.asarray(img)\n",
    "    if self.writer is None:\n",
    "      h, w = img.shape[:2]\n",
    "      self.writer = FFMPEG_VideoWriter(size=(w, h), **self.params)\n",
    "    if img.dtype in [np.float32, np.float64]:\n",
    "      img = np.uint8(img.clip(0, 1)*255)\n",
    "    if len(img.shape) == 2:\n",
    "      img = np.repeat(img[..., None], 3, -1)\n",
    "    self.writer.write_frame(img)\n",
    "\n",
    "  def close(self):\n",
    "    if self.writer:\n",
    "      self.writer.close()\n",
    "\n",
    "  def __enter__(self):\n",
    "    return self\n",
    "\n",
    "  def __exit__(self, *kw):\n",
    "    self.close()\n"
   ]
  },
  {
   "cell_type": "code",
   "execution_count": 69,
   "metadata": {},
   "outputs": [],
   "source": [
    "def square_stimulus(cur_u_grid, y, x):\n",
    "    global vesicle_size\n",
    "    half_vesicle=vesicle_size//2 -1\n",
    "    #  stim 4 at x, y locations!!\n",
    "    x=(vesicle_size-1)*x + half_vesicle\n",
    "    y=(vesicle_size-1)*y + half_vesicle\n",
    "    cur_u_grid[x][y] = 1\n",
    "    cur_u_grid[x+1][y+1] = 1\n",
    "    cur_u_grid[x+1][y] = 1\n",
    "    cur_u_grid[x][y+1] = 1\n",
    "    return cur_u_grid"
   ]
  },
  {
   "cell_type": "code",
   "execution_count": 70,
   "metadata": {},
   "outputs": [],
   "source": [
    "def makegrid(slit_len):\n",
    "    global w_in_pixels, h_in_pixels, w_in_vesicles, h_in_vesicles\n",
    "    half_vesicle=(vesicle_size-1)//2\n",
    "    grid = np.zeros((h_in_pixels, w_in_pixels))\n",
    "    for i in range(w_in_pixels):\n",
    "        grid[0, i] = 1\n",
    "        grid[h_in_pixels-1, i] = 1\n",
    "    \n",
    "    for i in range(h_in_pixels):\n",
    "        grid[i, 0] = 1\n",
    "        grid[i, w_in_pixels-1] = 1\n",
    "    \n",
    "    for h in range(1, h_in_vesicles+1):\n",
    "        for w in range(1, w_in_vesicles+1):\n",
    "            top = (h-1)*vesicle_size - (h-1-1) -1\n",
    "            left = (w-1)*vesicle_size - (w-1-1) -1\n",
    "            bottom = h*vesicle_size - (h-1) -1\n",
    "            right = w*vesicle_size - (w-1) -1\n",
    "            \n",
    "            if right != w_in_pixels:\n",
    "                for i in range(top+1, bottom):\n",
    "                    middle = top+1 + half_vesicle\n",
    "                    if i in range(middle - slit_len//2, middle + (slit_len - slit_len//2)):\n",
    "                        pass\n",
    "                    else:     \n",
    "                        grid[i, right] = 1\n",
    "            \n",
    "            if bottom != h_in_pixels:\n",
    "                for i in range(left+1, right):\n",
    "                    middle = left+1 + half_vesicle\n",
    "                    if i in range(middle - slit_len//2, middle + (slit_len - slit_len//2)):\n",
    "                        pass\n",
    "                    else:    \n",
    "                        grid[bottom, i] = 1\n",
    "            \n",
    "            if right!=w_in_pixels and bottom!=h_in_pixels:\n",
    "                grid[bottom, right] = 1\n",
    "                if w==1:\n",
    "                    grid[bottom, left] = 1\n",
    "                if h==1:\n",
    "                    grid[top, right] = 1\n",
    "    return grid"
   ]
  },
  {
   "cell_type": "code",
   "execution_count": 71,
   "metadata": {},
   "outputs": [],
   "source": [
    "def setgap(w, h, rightside: bool, slit_len):\n",
    "    global illum\n",
    "    w+=1\n",
    "    h+=1\n",
    "    top = (h-1)*vesicle_size - (h-1-1) -1\n",
    "    left = (w-1)*vesicle_size - (w-1-1) -1\n",
    "    bottom = h*vesicle_size - (h-1) -1\n",
    "    right = w*vesicle_size - (w-1) -1\n",
    "    \n",
    "    half_vesicle=(vesicle_size-1)//2\n",
    "    \n",
    "    # on the right\n",
    "    if rightside:\n",
    "        for i in range(top+1, bottom):\n",
    "            middle = top+1 + half_vesicle\n",
    "            if i in range(middle - slit_len//2, middle + (slit_len - slit_len//2)):\n",
    "                val = 0\n",
    "            else:     \n",
    "                val = 1\n",
    "            illum[i, right] = val\n",
    "                \n",
    "    # on the bottom\n",
    "    else:\n",
    "        for i in range(left+1, right):\n",
    "            middle = left+1 + half_vesicle\n",
    "            if i in range(middle - slit_len//2, middle + (slit_len - slit_len//2)):\n",
    "                val = 0\n",
    "            else:    \n",
    "                val = 1\n",
    "            illum[bottom, i] = val"
   ]
  },
  {
   "cell_type": "code",
   "execution_count": 126,
   "metadata": {},
   "outputs": [
    {
     "name": "stdout",
     "output_type": "stream",
     "text": [
      "shape of image array: (58, 87, 3)\n"
     ]
    }
   ],
   "source": [
    "# [0.05, 0.08] is good (adamatzky2017fredkin, adamatzky2018street)\n",
    "#  phi = 0.72\n",
    "phi = 0.0745\n",
    "# phi = 0.0745\n",
    "epsilon = 0.0243; f = 1.4; q = 0.002; dt = 0.001; du = 0.45\n",
    "h_in_vesicles = 2\n",
    "w_in_vesicles = 3\n",
    "vesicle_size = 16\n",
    "slit_len = 0\n",
    "selective_gap =8\n",
    "\n",
    "iterations = 6000\n",
    "record_every_n = 150\n",
    "record_start_frame = 0\n",
    "\n",
    "h_in_pixels = h_in_vesicles*vesicle_size - (h_in_vesicles-1) -1\n",
    "w_in_pixels = w_in_vesicles*vesicle_size - (w_in_vesicles-1) -1\n",
    "\n",
    "# ------------ main ------------ #\n",
    "os.environ['FFMPEG_BINARY'] = 'ffmpeg'\n",
    "# input_file=(\"./input_pics/vesicle_input_\"+str(w_in_pixels)+\"x\"+str(h_in_pixels)+\".png\")\n",
    "cur_u_grid = np.zeros((h_in_pixels, w_in_pixels)); cur_v_grid = np.zeros((h_in_pixels, w_in_pixels)); illum = makegrid(slit_len)\n",
    "\n",
    "setgap(0, 0, True, selective_gap)\n",
    "setgap(1, 0, True, selective_gap)\n",
    "setgap(1, 0, False, selective_gap)\n",
    "\n",
    "# stimulus 4 adjacent pixels\n",
    "cur_u_grid = square_stimulus(cur_u_grid, 0, 0)\n",
    "# cur_u_grid = square_stimulus(cur_u_grid, 2, 0)\n",
    "\n",
    "image_arr = np.stack([cur_u_grid, cur_v_grid, illum], axis = -1)\n",
    "image_arr = upd_grid(image_arr)\n",
    "print(\"shape of image array:\", image_arr.shape)"
   ]
  },
  {
   "cell_type": "code",
   "execution_count": 127,
   "metadata": {},
   "outputs": [
    {
     "name": "stderr",
     "output_type": "stream",
     "text": [
      "100%|██████████| 6000/6000 [02:14<00:00, 44.65it/s]\n"
     ]
    }
   ],
   "source": [
    "out_fn = \"output.mp4\"\n",
    "Path(out_fn).touch()\n",
    "with VideoWriter(out_fn) as vid:\n",
    "    for i in tqdm.trange(iterations):\n",
    "        if i > record_start_frame:\n",
    "            if i%record_every_n == 0:\n",
    "                vid.add(image_arr)\n",
    "        image_arr = upd_grid(image_arr)"
   ]
  },
  {
   "cell_type": "code",
   "execution_count": 128,
   "metadata": {},
   "outputs": [
    {
     "data": {
      "text/html": [
       "<video src=\"../videos/output.mp4\" width=\"435\" height=\"290\" controls type=\"video/mp4\" autoplay loop></video>"
      ],
      "text/plain": [
       "<IPython.core.display.HTML object>"
      ]
     },
     "metadata": {},
     "output_type": "display_data"
    }
   ],
   "source": [
    "from IPython.display import display, Video, HTML\n",
    "display_mult=5\n",
    "display_width=w_in_pixels*display_mult\n",
    "display_height=h_in_pixels*display_mult\n",
    "video_html = f'<video src=\"{out_fn}\" width=\"{display_width}\" height=\"{display_height}\" controls type=\"video/mp4\" autoplay loop></video>'\n",
    "display(HTML(video_html))"
   ]
  }
 ],
 "metadata": {
  "kernelspec": {
   "display_name": "Python 3",
   "language": "python",
   "name": "python3"
  },
  "language_info": {
   "codemirror_mode": {
    "name": "ipython",
    "version": 3
   },
   "file_extension": ".py",
   "mimetype": "text/x-python",
   "name": "python",
   "nbconvert_exporter": "python",
   "pygments_lexer": "ipython3",
   "version": "3.11.0"
  }
 },
 "nbformat": 4,
 "nbformat_minor": 2
}
